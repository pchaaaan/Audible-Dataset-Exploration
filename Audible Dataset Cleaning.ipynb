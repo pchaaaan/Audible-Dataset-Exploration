{
 "cells": [
  {
   "cell_type": "markdown",
   "id": "b56f3684",
   "metadata": {},
   "source": [
    "### Importing libraries"
   ]
  },
  {
   "cell_type": "code",
   "execution_count": 182,
   "id": "b6d3ce14",
   "metadata": {},
   "outputs": [],
   "source": [
    "import pandas as pd\n",
    "import numpy as np"
   ]
  },
  {
   "cell_type": "markdown",
   "id": "971a6210",
   "metadata": {},
   "source": [
    "### Loading dataset into Pandas dataframe"
   ]
  },
  {
   "cell_type": "code",
   "execution_count": 183,
   "id": "c4c26976",
   "metadata": {},
   "outputs": [],
   "source": [
    "pd.set_option('display.max_rows', None)"
   ]
  },
  {
   "cell_type": "code",
   "execution_count": 184,
   "id": "ae539bee",
   "metadata": {},
   "outputs": [],
   "source": [
    "data=pd.read_csv(r\"C:\\Users\\cppra\\Downloads\\Projects\\Data Cleaning\\audible_data_uncleaned.csv\")"
   ]
  },
  {
   "cell_type": "code",
   "execution_count": 185,
   "id": "53dbcfff",
   "metadata": {},
   "outputs": [
    {
     "data": {
      "text/html": [
       "<div>\n",
       "<style scoped>\n",
       "    .dataframe tbody tr th:only-of-type {\n",
       "        vertical-align: middle;\n",
       "    }\n",
       "\n",
       "    .dataframe tbody tr th {\n",
       "        vertical-align: top;\n",
       "    }\n",
       "\n",
       "    .dataframe thead th {\n",
       "        text-align: right;\n",
       "    }\n",
       "</style>\n",
       "<table border=\"1\" class=\"dataframe\">\n",
       "  <thead>\n",
       "    <tr style=\"text-align: right;\">\n",
       "      <th></th>\n",
       "      <th>name</th>\n",
       "      <th>author</th>\n",
       "      <th>narrator</th>\n",
       "      <th>time</th>\n",
       "      <th>releasedate</th>\n",
       "      <th>language</th>\n",
       "      <th>stars</th>\n",
       "      <th>price</th>\n",
       "    </tr>\n",
       "  </thead>\n",
       "  <tbody>\n",
       "    <tr>\n",
       "      <th>0</th>\n",
       "      <td>Geronimo Stilton #11 &amp; #12</td>\n",
       "      <td>Writtenby:GeronimoStilton</td>\n",
       "      <td>Narratedby:BillLobely</td>\n",
       "      <td>2 hrs and 20 mins</td>\n",
       "      <td>04-08-08</td>\n",
       "      <td>English</td>\n",
       "      <td>5 out of 5 stars34 ratings</td>\n",
       "      <td>468.00</td>\n",
       "    </tr>\n",
       "    <tr>\n",
       "      <th>1</th>\n",
       "      <td>The Burning Maze</td>\n",
       "      <td>Writtenby:RickRiordan</td>\n",
       "      <td>Narratedby:RobbieDaymond</td>\n",
       "      <td>13 hrs and 8 mins</td>\n",
       "      <td>01-05-18</td>\n",
       "      <td>English</td>\n",
       "      <td>4.5 out of 5 stars41 ratings</td>\n",
       "      <td>820.00</td>\n",
       "    </tr>\n",
       "    <tr>\n",
       "      <th>2</th>\n",
       "      <td>The Deep End</td>\n",
       "      <td>Writtenby:JeffKinney</td>\n",
       "      <td>Narratedby:DanRussell</td>\n",
       "      <td>2 hrs and 3 mins</td>\n",
       "      <td>06-11-20</td>\n",
       "      <td>English</td>\n",
       "      <td>4.5 out of 5 stars38 ratings</td>\n",
       "      <td>410.00</td>\n",
       "    </tr>\n",
       "    <tr>\n",
       "      <th>3</th>\n",
       "      <td>Daughter of the Deep</td>\n",
       "      <td>Writtenby:RickRiordan</td>\n",
       "      <td>Narratedby:SoneelaNankani</td>\n",
       "      <td>11 hrs and 16 mins</td>\n",
       "      <td>05-10-21</td>\n",
       "      <td>English</td>\n",
       "      <td>4.5 out of 5 stars12 ratings</td>\n",
       "      <td>615.00</td>\n",
       "    </tr>\n",
       "    <tr>\n",
       "      <th>4</th>\n",
       "      <td>The Lightning Thief: Percy Jackson, Book 1</td>\n",
       "      <td>Writtenby:RickRiordan</td>\n",
       "      <td>Narratedby:JesseBernstein</td>\n",
       "      <td>10 hrs</td>\n",
       "      <td>13-01-10</td>\n",
       "      <td>English</td>\n",
       "      <td>4.5 out of 5 stars181 ratings</td>\n",
       "      <td>820.00</td>\n",
       "    </tr>\n",
       "  </tbody>\n",
       "</table>\n",
       "</div>"
      ],
      "text/plain": [
       "                                         name                     author  \\\n",
       "0                  Geronimo Stilton #11 & #12  Writtenby:GeronimoStilton   \n",
       "1                            The Burning Maze      Writtenby:RickRiordan   \n",
       "2                                The Deep End       Writtenby:JeffKinney   \n",
       "3                        Daughter of the Deep      Writtenby:RickRiordan   \n",
       "4  The Lightning Thief: Percy Jackson, Book 1      Writtenby:RickRiordan   \n",
       "\n",
       "                    narrator                time releasedate language  \\\n",
       "0      Narratedby:BillLobely   2 hrs and 20 mins    04-08-08  English   \n",
       "1   Narratedby:RobbieDaymond   13 hrs and 8 mins    01-05-18  English   \n",
       "2      Narratedby:DanRussell    2 hrs and 3 mins    06-11-20  English   \n",
       "3  Narratedby:SoneelaNankani  11 hrs and 16 mins    05-10-21  English   \n",
       "4  Narratedby:JesseBernstein              10 hrs    13-01-10  English   \n",
       "\n",
       "                           stars   price  \n",
       "0     5 out of 5 stars34 ratings  468.00  \n",
       "1   4.5 out of 5 stars41 ratings  820.00  \n",
       "2   4.5 out of 5 stars38 ratings  410.00  \n",
       "3   4.5 out of 5 stars12 ratings  615.00  \n",
       "4  4.5 out of 5 stars181 ratings  820.00  "
      ]
     },
     "execution_count": 185,
     "metadata": {},
     "output_type": "execute_result"
    }
   ],
   "source": [
    "data.head()"
   ]
  },
  {
   "cell_type": "code",
   "execution_count": 186,
   "id": "325157be",
   "metadata": {},
   "outputs": [
    {
     "name": "stdout",
     "output_type": "stream",
     "text": [
      "<class 'pandas.core.frame.DataFrame'>\n",
      "RangeIndex: 87489 entries, 0 to 87488\n",
      "Data columns (total 8 columns):\n",
      " #   Column       Non-Null Count  Dtype \n",
      "---  ------       --------------  ----- \n",
      " 0   name         87489 non-null  object\n",
      " 1   author       87489 non-null  object\n",
      " 2   narrator     87489 non-null  object\n",
      " 3   time         87489 non-null  object\n",
      " 4   releasedate  87489 non-null  object\n",
      " 5   language     87489 non-null  object\n",
      " 6   stars        87489 non-null  object\n",
      " 7   price        87489 non-null  object\n",
      "dtypes: object(8)\n",
      "memory usage: 5.3+ MB\n"
     ]
    }
   ],
   "source": [
    "data.info()"
   ]
  },
  {
   "cell_type": "code",
   "execution_count": 187,
   "id": "ffd1bcd2",
   "metadata": {
    "scrolled": true
   },
   "outputs": [
    {
     "data": {
      "text/html": [
       "<div>\n",
       "<style scoped>\n",
       "    .dataframe tbody tr th:only-of-type {\n",
       "        vertical-align: middle;\n",
       "    }\n",
       "\n",
       "    .dataframe tbody tr th {\n",
       "        vertical-align: top;\n",
       "    }\n",
       "\n",
       "    .dataframe thead th {\n",
       "        text-align: right;\n",
       "    }\n",
       "</style>\n",
       "<table border=\"1\" class=\"dataframe\">\n",
       "  <thead>\n",
       "    <tr style=\"text-align: right;\">\n",
       "      <th></th>\n",
       "      <th>name</th>\n",
       "      <th>author</th>\n",
       "      <th>narrator</th>\n",
       "      <th>time</th>\n",
       "      <th>releasedate</th>\n",
       "      <th>language</th>\n",
       "      <th>stars</th>\n",
       "      <th>price</th>\n",
       "    </tr>\n",
       "  </thead>\n",
       "  <tbody>\n",
       "    <tr>\n",
       "      <th>count</th>\n",
       "      <td>87489</td>\n",
       "      <td>87489</td>\n",
       "      <td>87489</td>\n",
       "      <td>87489</td>\n",
       "      <td>87489</td>\n",
       "      <td>87489</td>\n",
       "      <td>87489</td>\n",
       "      <td>87489</td>\n",
       "    </tr>\n",
       "    <tr>\n",
       "      <th>unique</th>\n",
       "      <td>82767</td>\n",
       "      <td>48374</td>\n",
       "      <td>29717</td>\n",
       "      <td>2284</td>\n",
       "      <td>5058</td>\n",
       "      <td>36</td>\n",
       "      <td>665</td>\n",
       "      <td>1011</td>\n",
       "    </tr>\n",
       "    <tr>\n",
       "      <th>top</th>\n",
       "      <td>The Art of War</td>\n",
       "      <td>Writtenby:矢島雅弘,石橋遊</td>\n",
       "      <td>Narratedby:anonymous</td>\n",
       "      <td>2 mins</td>\n",
       "      <td>16-05-18</td>\n",
       "      <td>English</td>\n",
       "      <td>Not rated yet</td>\n",
       "      <td>586.00</td>\n",
       "    </tr>\n",
       "    <tr>\n",
       "      <th>freq</th>\n",
       "      <td>20</td>\n",
       "      <td>874</td>\n",
       "      <td>1034</td>\n",
       "      <td>372</td>\n",
       "      <td>773</td>\n",
       "      <td>61884</td>\n",
       "      <td>72417</td>\n",
       "      <td>5533</td>\n",
       "    </tr>\n",
       "  </tbody>\n",
       "</table>\n",
       "</div>"
      ],
      "text/plain": [
       "                  name              author              narrator    time  \\\n",
       "count            87489               87489                 87489   87489   \n",
       "unique           82767               48374                 29717    2284   \n",
       "top     The Art of War  Writtenby:矢島雅弘,石橋遊  Narratedby:anonymous  2 mins   \n",
       "freq                20                 874                  1034     372   \n",
       "\n",
       "       releasedate language          stars   price  \n",
       "count        87489    87489          87489   87489  \n",
       "unique        5058       36            665    1011  \n",
       "top       16-05-18  English  Not rated yet  586.00  \n",
       "freq           773    61884          72417    5533  "
      ]
     },
     "execution_count": 187,
     "metadata": {},
     "output_type": "execute_result"
    }
   ],
   "source": [
    "data.describe()"
   ]
  },
  {
   "cell_type": "markdown",
   "id": "49f859fe",
   "metadata": {},
   "source": [
    "### Checking missing/null values"
   ]
  },
  {
   "cell_type": "code",
   "execution_count": 188,
   "id": "ca9967cb",
   "metadata": {},
   "outputs": [
    {
     "data": {
      "text/plain": [
       "name           0\n",
       "author         0\n",
       "narrator       0\n",
       "time           0\n",
       "releasedate    0\n",
       "language       0\n",
       "stars          0\n",
       "price          0\n",
       "dtype: int64"
      ]
     },
     "execution_count": 188,
     "metadata": {},
     "output_type": "execute_result"
    }
   ],
   "source": [
    "data.isna().sum()"
   ]
  },
  {
   "cell_type": "markdown",
   "id": "7cd03d5b",
   "metadata": {},
   "source": [
    "### Data Cleaning"
   ]
  },
  {
   "cell_type": "code",
   "execution_count": 189,
   "id": "b59f6187",
   "metadata": {},
   "outputs": [],
   "source": [
    "data_copy=data.copy()"
   ]
  },
  {
   "cell_type": "markdown",
   "id": "9741e847",
   "metadata": {},
   "source": [
    "#### 1. Capitalizing column headers"
   ]
  },
  {
   "cell_type": "code",
   "execution_count": 190,
   "id": "9eb8030e",
   "metadata": {},
   "outputs": [],
   "source": [
    "data_copy.columns = data_copy.columns.str.capitalize()"
   ]
  },
  {
   "cell_type": "markdown",
   "id": "16184508",
   "metadata": {},
   "source": [
    "#### 2. Removing unwanted content from 'Author' and 'Narrator' columns"
   ]
  },
  {
   "cell_type": "code",
   "execution_count": 191,
   "id": "3ee2fee4",
   "metadata": {},
   "outputs": [],
   "source": [
    "data_copy['Author'] = data_copy['Author'].str.replace('Writtenby:', '', case=False)\n",
    "data_copy['Narrator'] = data_copy['Narrator'].str.replace('Narratedby:', '', case=False)"
   ]
  },
  {
   "cell_type": "markdown",
   "id": "9c87d166",
   "metadata": {},
   "source": [
    "#### 3. Separating first name and last name in 'Author' and 'Narrator' columns"
   ]
  },
  {
   "cell_type": "code",
   "execution_count": 192,
   "id": "877b6283",
   "metadata": {},
   "outputs": [
    {
     "name": "stderr",
     "output_type": "stream",
     "text": [
      "C:\\Users\\cppra\\AppData\\Local\\Temp\\ipykernel_10740\\1070682603.py:1: FutureWarning: The default value of regex will change from True to False in a future version.\n",
      "  data_copy['Author'] = data_copy['Author'].str.replace(r'(?<=[a-z])(?=[A-Z])', ' ')\n"
     ]
    }
   ],
   "source": [
    "data_copy['Author'] = data_copy['Author'].str.replace(r'(?<=[a-z])(?=[A-Z])', ' ')"
   ]
  },
  {
   "cell_type": "code",
   "execution_count": 193,
   "id": "3d7499ff",
   "metadata": {},
   "outputs": [
    {
     "name": "stderr",
     "output_type": "stream",
     "text": [
      "C:\\Users\\cppra\\AppData\\Local\\Temp\\ipykernel_10740\\2337731510.py:1: FutureWarning: The default value of regex will change from True to False in a future version.\n",
      "  data_copy['Narrator'] = data_copy['Narrator'].str.replace(r'(?<=[a-z])(?=[A-Z])', ' ')\n"
     ]
    }
   ],
   "source": [
    "data_copy['Narrator'] = data_copy['Narrator'].str.replace(r'(?<=[a-z])(?=[A-Z])', ' ')"
   ]
  },
  {
   "cell_type": "code",
   "execution_count": 194,
   "id": "3c52675b",
   "metadata": {
    "scrolled": true
   },
   "outputs": [
    {
     "data": {
      "text/html": [
       "<div>\n",
       "<style scoped>\n",
       "    .dataframe tbody tr th:only-of-type {\n",
       "        vertical-align: middle;\n",
       "    }\n",
       "\n",
       "    .dataframe tbody tr th {\n",
       "        vertical-align: top;\n",
       "    }\n",
       "\n",
       "    .dataframe thead th {\n",
       "        text-align: right;\n",
       "    }\n",
       "</style>\n",
       "<table border=\"1\" class=\"dataframe\">\n",
       "  <thead>\n",
       "    <tr style=\"text-align: right;\">\n",
       "      <th></th>\n",
       "      <th>Name</th>\n",
       "      <th>Author</th>\n",
       "      <th>Narrator</th>\n",
       "      <th>Time</th>\n",
       "      <th>Releasedate</th>\n",
       "      <th>Language</th>\n",
       "      <th>Stars</th>\n",
       "      <th>Price</th>\n",
       "    </tr>\n",
       "  </thead>\n",
       "  <tbody>\n",
       "    <tr>\n",
       "      <th>0</th>\n",
       "      <td>Geronimo Stilton #11 &amp; #12</td>\n",
       "      <td>Geronimo Stilton</td>\n",
       "      <td>Bill Lobely</td>\n",
       "      <td>2 hrs and 20 mins</td>\n",
       "      <td>04-08-08</td>\n",
       "      <td>English</td>\n",
       "      <td>5 out of 5 stars34 ratings</td>\n",
       "      <td>468.00</td>\n",
       "    </tr>\n",
       "    <tr>\n",
       "      <th>1</th>\n",
       "      <td>The Burning Maze</td>\n",
       "      <td>Rick Riordan</td>\n",
       "      <td>Robbie Daymond</td>\n",
       "      <td>13 hrs and 8 mins</td>\n",
       "      <td>01-05-18</td>\n",
       "      <td>English</td>\n",
       "      <td>4.5 out of 5 stars41 ratings</td>\n",
       "      <td>820.00</td>\n",
       "    </tr>\n",
       "    <tr>\n",
       "      <th>2</th>\n",
       "      <td>The Deep End</td>\n",
       "      <td>Jeff Kinney</td>\n",
       "      <td>Dan Russell</td>\n",
       "      <td>2 hrs and 3 mins</td>\n",
       "      <td>06-11-20</td>\n",
       "      <td>English</td>\n",
       "      <td>4.5 out of 5 stars38 ratings</td>\n",
       "      <td>410.00</td>\n",
       "    </tr>\n",
       "    <tr>\n",
       "      <th>3</th>\n",
       "      <td>Daughter of the Deep</td>\n",
       "      <td>Rick Riordan</td>\n",
       "      <td>Soneela Nankani</td>\n",
       "      <td>11 hrs and 16 mins</td>\n",
       "      <td>05-10-21</td>\n",
       "      <td>English</td>\n",
       "      <td>4.5 out of 5 stars12 ratings</td>\n",
       "      <td>615.00</td>\n",
       "    </tr>\n",
       "    <tr>\n",
       "      <th>4</th>\n",
       "      <td>The Lightning Thief: Percy Jackson, Book 1</td>\n",
       "      <td>Rick Riordan</td>\n",
       "      <td>Jesse Bernstein</td>\n",
       "      <td>10 hrs</td>\n",
       "      <td>13-01-10</td>\n",
       "      <td>English</td>\n",
       "      <td>4.5 out of 5 stars181 ratings</td>\n",
       "      <td>820.00</td>\n",
       "    </tr>\n",
       "  </tbody>\n",
       "</table>\n",
       "</div>"
      ],
      "text/plain": [
       "                                         Name            Author  \\\n",
       "0                  Geronimo Stilton #11 & #12  Geronimo Stilton   \n",
       "1                            The Burning Maze      Rick Riordan   \n",
       "2                                The Deep End       Jeff Kinney   \n",
       "3                        Daughter of the Deep      Rick Riordan   \n",
       "4  The Lightning Thief: Percy Jackson, Book 1      Rick Riordan   \n",
       "\n",
       "          Narrator                Time Releasedate Language  \\\n",
       "0      Bill Lobely   2 hrs and 20 mins    04-08-08  English   \n",
       "1   Robbie Daymond   13 hrs and 8 mins    01-05-18  English   \n",
       "2      Dan Russell    2 hrs and 3 mins    06-11-20  English   \n",
       "3  Soneela Nankani  11 hrs and 16 mins    05-10-21  English   \n",
       "4  Jesse Bernstein              10 hrs    13-01-10  English   \n",
       "\n",
       "                           Stars   Price  \n",
       "0     5 out of 5 stars34 ratings  468.00  \n",
       "1   4.5 out of 5 stars41 ratings  820.00  \n",
       "2   4.5 out of 5 stars38 ratings  410.00  \n",
       "3   4.5 out of 5 stars12 ratings  615.00  \n",
       "4  4.5 out of 5 stars181 ratings  820.00  "
      ]
     },
     "execution_count": 194,
     "metadata": {},
     "output_type": "execute_result"
    }
   ],
   "source": [
    "data_copy.head()"
   ]
  },
  {
   "cell_type": "markdown",
   "id": "413aa18b",
   "metadata": {},
   "source": [
    "#### 4. Renaming the 'Releasedata' column for better readability and changing its datatypes\n"
   ]
  },
  {
   "cell_type": "code",
   "execution_count": 195,
   "id": "a7099f84",
   "metadata": {},
   "outputs": [],
   "source": [
    "data_copy.rename(columns={'Releasedate': 'Release Date'}, inplace=True)"
   ]
  },
  {
   "cell_type": "code",
   "execution_count": 196,
   "id": "7f34c151",
   "metadata": {},
   "outputs": [],
   "source": [
    "data_copy['Release Date']=data_copy['Release Date'].astype('datetime64[ns]')\n",
    "data_copy['Language']=data_copy['Language'].astype('category')"
   ]
  },
  {
   "cell_type": "markdown",
   "id": "fbd3814c",
   "metadata": {},
   "source": [
    "#### 5. Capitalizing all the languages\n"
   ]
  },
  {
   "cell_type": "code",
   "execution_count": 197,
   "id": "61efcd2d",
   "metadata": {},
   "outputs": [],
   "source": [
    "data_copy['Language'] = data_copy['Language'].str.capitalize()"
   ]
  },
  {
   "cell_type": "markdown",
   "id": "1efdfe57",
   "metadata": {},
   "source": [
    "#### 6. Separating the star rating and the number of ratings from the 'Stars' column, forming 2 new columns 'Rating' and 'Number of ratings'"
   ]
  },
  {
   "cell_type": "code",
   "execution_count": 198,
   "id": "ab1f92c1",
   "metadata": {},
   "outputs": [],
   "source": [
    "data_copy['Rating'] = data_copy['Stars'].str.extract(r'(\\d+) out of 5 stars')\n",
    "data_copy['Number of ratings'] = data_copy['Stars'].str.extract(r'(\\d+) ratings')\n",
    "\n",
    "data_copy['Rating'].replace('Not yet rated', pd.NA, inplace=True)\n",
    "\n",
    "data_copy['Rating'] = pd.to_numeric(data_copy['Rating'], errors='coerce')\n",
    "\n",
    "data_copy['Number of ratings'] = pd.to_numeric(data_copy['Number of ratings'], errors='coerce')\n",
    "\n",
    "data_copy.rename(columns={'Stars': 'rating'}, inplace=True)\n",
    "data_copy.drop(columns=['rating'],inplace=True)"
   ]
  },
  {
   "cell_type": "markdown",
   "id": "7aaba317",
   "metadata": {},
   "source": [
    "#### 7. Removing commas and replacing the price of all 'Free' books"
   ]
  },
  {
   "cell_type": "code",
   "execution_count": 199,
   "id": "36a0a4be",
   "metadata": {},
   "outputs": [],
   "source": [
    "data_copy.loc[data_copy['Price'] == 'Free', 'Price'] = '0'"
   ]
  },
  {
   "cell_type": "code",
   "execution_count": 200,
   "id": "42808dd5",
   "metadata": {},
   "outputs": [],
   "source": [
    "data_copy['Price'] = pd.to_numeric(data_copy['Price'].str.replace(',', ''), errors='coerce')"
   ]
  },
  {
   "cell_type": "markdown",
   "id": "c4c517ea",
   "metadata": {},
   "source": [
    "#### 8. Filling all null values in the 'Rating' and 'Number of ratings' column."
   ]
  },
  {
   "cell_type": "code",
   "execution_count": 201,
   "id": "dbb766ad",
   "metadata": {},
   "outputs": [],
   "source": [
    "columns_to_fill = ['Rating', 'Number of ratings']\n",
    "data_copy[columns_to_fill] = data_copy[columns_to_fill].fillna('0')"
   ]
  },
  {
   "cell_type": "markdown",
   "id": "7601667b",
   "metadata": {},
   "source": [
    "#### 9. Saving the dataframe into a new CSV file"
   ]
  },
  {
   "cell_type": "code",
   "execution_count": 202,
   "id": "227d134f",
   "metadata": {},
   "outputs": [],
   "source": [
    "data_copy.to_csv('audible_data_cleaned.csv', index=False)"
   ]
  }
 ],
 "metadata": {
  "kernelspec": {
   "display_name": "Python 3 (ipykernel)",
   "language": "python",
   "name": "python3"
  },
  "language_info": {
   "codemirror_mode": {
    "name": "ipython",
    "version": 3
   },
   "file_extension": ".py",
   "mimetype": "text/x-python",
   "name": "python",
   "nbconvert_exporter": "python",
   "pygments_lexer": "ipython3",
   "version": "3.11.4"
  }
 },
 "nbformat": 4,
 "nbformat_minor": 5
}
